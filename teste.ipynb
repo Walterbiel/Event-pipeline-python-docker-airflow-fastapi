{
 "cells": [
  {
   "cell_type": "code",
   "execution_count": 3,
   "metadata": {},
   "outputs": [
    {
     "name": "stdout",
     "output_type": "stream",
     "text": [
      "Dados recebidos: {'vendas': [{'cliente': 'Brent Woods', 'data': '2024-03-04', 'valor_venda': 4118.29}, {'cliente': 'Joseph Campbell', 'data': '2024-01-18', 'valor_venda': 3566.33}, {'cliente': 'James Carter', 'data': '2024-07-19', 'valor_venda': 2621.44}, {'cliente': 'Richard Brown', 'data': '2024-01-11', 'valor_venda': 1735.58}, {'cliente': 'Brian Murphy', 'data': '2024-01-06', 'valor_venda': 1750.41}, {'cliente': 'Jessica Kemp', 'data': '2024-12-25', 'valor_venda': 4410.93}, {'cliente': 'Robin Flores', 'data': '2024-01-17', 'valor_venda': 1277.62}, {'cliente': 'Amber Ibarra', 'data': '2024-02-13', 'valor_venda': 528.5}, {'cliente': 'Rick Cannon', 'data': '2024-04-16', 'valor_venda': 2752.94}, {'cliente': 'Charles Rodriguez', 'data': '2024-11-10', 'valor_venda': 4843.57}, {'cliente': 'Anna Allen', 'data': '2024-01-13', 'valor_venda': 1358.62}, {'cliente': 'Janet Pham', 'data': '2024-03-14', 'valor_venda': 3732.44}, {'cliente': 'Jeremy Bush', 'data': '2024-11-02', 'valor_venda': 1044.58}, {'cliente': 'Lori Gallegos', 'data': '2024-10-04', 'valor_venda': 2250.45}, {'cliente': 'Michael Scott', 'data': '2024-10-14', 'valor_venda': 1564.39}, {'cliente': 'Kelly Rodriguez', 'data': '2024-03-01', 'valor_venda': 1799.5}, {'cliente': 'Wayne Holmes', 'data': '2024-07-11', 'valor_venda': 1822.56}, {'cliente': 'Samuel Berry', 'data': '2024-09-12', 'valor_venda': 3868.52}, {'cliente': 'Cory Herring', 'data': '2024-12-25', 'valor_venda': 429.89}, {'cliente': 'David Guzman', 'data': '2024-02-18', 'valor_venda': 1510.01}, {'cliente': 'Mr. Nicholas Wood', 'data': '2024-06-12', 'valor_venda': 3226.3}, {'cliente': 'Brandi Fernandez', 'data': '2024-11-13', 'valor_venda': 3145.44}, {'cliente': 'Seth Snyder', 'data': '2024-04-14', 'valor_venda': 3388.53}, {'cliente': 'Kelly Duke', 'data': '2024-08-23', 'valor_venda': 3793.54}, {'cliente': 'Tina Howell', 'data': '2024-09-07', 'valor_venda': 4642.86}, {'cliente': 'Anne Johnson', 'data': '2024-01-23', 'valor_venda': 693.45}, {'cliente': 'Chloe Sutton', 'data': '2024-06-07', 'valor_venda': 1273.6}, {'cliente': 'Julie Bass', 'data': '2024-03-31', 'valor_venda': 2864.12}, {'cliente': 'Katherine Leonard', 'data': '2024-06-10', 'valor_venda': 2136.75}, {'cliente': 'Brent Myers', 'data': '2024-03-07', 'valor_venda': 812.07}, {'cliente': 'Kelly Boyd', 'data': '2024-04-13', 'valor_venda': 3955.14}, {'cliente': 'Cory Estrada', 'data': '2024-10-03', 'valor_venda': 3908.49}, {'cliente': 'Kyle Duffy', 'data': '2024-01-14', 'valor_venda': 2469.28}, {'cliente': 'Catherine Chapman', 'data': '2024-02-02', 'valor_venda': 3738.39}, {'cliente': 'Robin Hopkins', 'data': '2024-04-07', 'valor_venda': 3597.51}, {'cliente': 'Amy White', 'data': '2024-10-29', 'valor_venda': 4354.07}, {'cliente': 'Kyle Lee', 'data': '2024-03-13', 'valor_venda': 988.52}, {'cliente': 'Daniel Thornton', 'data': '2024-02-17', 'valor_venda': 2898.1}, {'cliente': 'Christopher Moore', 'data': '2024-03-24', 'valor_venda': 585.2}, {'cliente': 'James Miranda', 'data': '2024-09-23', 'valor_venda': 4522.18}, {'cliente': 'Jennifer Moore', 'data': '2024-11-10', 'valor_venda': 1062.78}, {'cliente': 'Evan Esparza', 'data': '2024-12-11', 'valor_venda': 2706.06}, {'cliente': 'Andrew Young', 'data': '2024-09-08', 'valor_venda': 3097.09}, {'cliente': 'Ruth Rodriguez', 'data': '2024-11-19', 'valor_venda': 2937.08}, {'cliente': 'Natasha Dunn', 'data': '2024-05-11', 'valor_venda': 1359.2}, {'cliente': 'Dr. Laura Henson', 'data': '2024-01-01', 'valor_venda': 1116.0}, {'cliente': 'Patricia Kramer', 'data': '2024-05-07', 'valor_venda': 1488.79}, {'cliente': 'Crystal Reeves', 'data': '2024-10-06', 'valor_venda': 4176.41}, {'cliente': 'James Mcintosh', 'data': '2024-07-24', 'valor_venda': 421.22}, {'cliente': 'Brandon Turner', 'data': '2024-12-21', 'valor_venda': 3785.2}]}\n"
     ]
    }
   ],
   "source": [
    "import requests\n",
    "\n",
    "# URL da API\n",
    "url = \"http://127.0.0.1:3000/vendas/?records=50\"\n",
    "\n",
    "# Cabeçalhos (se necessário)\n",
    "headers = {\n",
    "    \"Content-Type\": \"application/json\"\n",
    "}\n",
    "\n",
    "# Parâmetros de consulta (se necessário)\n",
    "params = {\n",
    "    \"userId\": 1\n",
    "}\n",
    "\n",
    "# Fazendo uma requisição GET\n",
    "response = requests.get(url, headers=headers, params=params)\n",
    "\n",
    "# Verificando se a requisição foi bem-sucedida (código 200)\n",
    "if response.status_code == 200:\n",
    "    data = response.json()  # Converte a resposta para JSON\n",
    "    print(\"Dados recebidos:\", data)\n",
    "else:\n",
    "    print(f\"Erro na requisição: {response.status_code}, {response.text}\")\n",
    "\n",
    "\n",
    "\n"
   ]
  },
  {
   "cell_type": "code",
   "execution_count": 7,
   "metadata": {},
   "outputs": [
    {
     "name": "stdout",
     "output_type": "stream",
     "text": [
      "Dados inseridos com sucesso na tabela \"airflow\".\n"
     ]
    }
   ],
   "source": [
    "import pandas as pd\n",
    "import psycopg2\n",
    "from sqlalchemy import create_engine\n",
    "\n",
    "# JSON recebido\n",
    "dados = {\n",
    "    'vendas': [\n",
    "        {'cliente': 'Brent Woods', 'data': '2024-03-04', 'valor_venda': 4118.29},\n",
    "        {'cliente': 'Joseph Campbell', 'data': '2024-01-18', 'valor_venda': 3566.33},\n",
    "        {'cliente': 'James Carter', 'data': '2024-07-19', 'valor_venda': 2621.44},\n",
    "        {'cliente': 'Richard Brown', 'data': '2024-01-11', 'valor_venda': 1735.58},\n",
    "        {'cliente': 'Brian Murphy', 'data': '2024-01-06', 'valor_venda': 1750.41},\n",
    "        {'cliente': 'Jessica Kemp', 'data': '2024-12-25', 'valor_venda': 4410.93},\n",
    "        {'cliente': 'Robin Flores', 'data': '2024-01-17', 'valor_venda': 1277.62}\n",
    "    ]\n",
    "}\n",
    "\n",
    "# Criando DataFrame\n",
    "df = pd.DataFrame(dados['vendas'])\n",
    "\n",
    "# Convertendo coluna de data para datetime\n",
    "df['data'] = pd.to_datetime(df['data'])\n",
    "\n",
    "# Ordenando os dados por data\n",
    "df = df.sort_values(by='data')\n",
    "\n",
    "# Configuração da conexão com o PostgreSQL\n",
    "db_usuario = 'airflow'\n",
    "db_senha = 'airflow'\n",
    "db_host = 'localhost'\n",
    "db_porta = '5432'\n",
    "db_nome = 'airflow'\n",
    "\n",
    "# Criando a string de conexão\n",
    "engine = create_engine(f'postgresql://{db_usuario}:{db_senha}@{db_host}:{db_porta}/{db_nome}')\n",
    "\n",
    "# Inserindo os dados no PostgreSQL\n",
    "tabela_destino = 'airflow'\n",
    "\n",
    "try:\n",
    "    df.to_sql(tabela_destino, con=engine, if_exists='append', index=False)\n",
    "    print(f'Dados inseridos com sucesso na tabela \"{tabela_destino}\".')\n",
    "except Exception as e:\n",
    "    print(f'Erro ao inserir os dados: {e}')\n"
   ]
  }
 ],
 "metadata": {
  "kernelspec": {
   "display_name": "Python 3",
   "language": "python",
   "name": "python3"
  },
  "language_info": {
   "codemirror_mode": {
    "name": "ipython",
    "version": 3
   },
   "file_extension": ".py",
   "mimetype": "text/x-python",
   "name": "python",
   "nbconvert_exporter": "python",
   "pygments_lexer": "ipython3",
   "version": "3.12.1"
  }
 },
 "nbformat": 4,
 "nbformat_minor": 2
}
